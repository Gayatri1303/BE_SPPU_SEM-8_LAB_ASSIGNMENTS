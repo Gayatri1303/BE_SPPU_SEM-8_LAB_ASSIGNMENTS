{
 "cells": [
  {
   "cell_type": "code",
   "execution_count": 2,
   "id": "d91c5673-e4ed-40a2-a59f-a03048bd5bcc",
   "metadata": {},
   "outputs": [],
   "source": [
    "import numpy as np\n",
    "import pandas as pd\n",
    "import nltk"
   ]
  },
  {
   "cell_type": "code",
   "execution_count": 3,
   "id": "7fc51612-38c4-4ab0-9f65-b1b5c0909edd",
   "metadata": {},
   "outputs": [],
   "source": [
    "sentence = \"If you want to know what a man’s like, take a good looks at how he treats his inferiors, not his equals. It is our choices, Harry, that show what we truly are, far more than our abilities!\""
   ]
  },
  {
   "cell_type": "code",
   "execution_count": 4,
   "id": "ea8c3167-1262-46a2-a13b-c2cae9c8a28a",
   "metadata": {},
   "outputs": [],
   "source": [
    "#TOKENIZATION METHODS"
   ]
  },
  {
   "cell_type": "code",
   "execution_count": 5,
   "id": "a22039f1-4038-4658-b7c8-4a7b78a41983",
   "metadata": {},
   "outputs": [
    {
     "name": "stdout",
     "output_type": "stream",
     "text": [
      "['If', 'you', 'want', 'to', 'know', 'what', 'a', 'man’s', 'like,', 'take', 'a', 'good', 'looks', 'at', 'how', 'he', 'treats', 'his', 'inferiors,', 'not', 'his', 'equals.', 'It', 'is', 'our', 'choices,', 'Harry,', 'that', 'show', 'what', 'we', 'truly', 'are,', 'far', 'more', 'than', 'our', 'abilities!']\n"
     ]
    }
   ],
   "source": [
    "#White space tokenization\n",
    "# extract the tokens from string of words or sentences without whitespaces, new line and tabs by using tokenize.WhitespaceTokenizer() method.\n",
    "\n",
    "from nltk.tokenize import WhitespaceTokenizer\n",
    "whitespace_tokenized = WhitespaceTokenizer().tokenize(sentence)\n",
    "print(whitespace_tokenized)"
   ]
  },
  {
   "cell_type": "code",
   "execution_count": 6,
   "id": "d907af36-3662-4336-bf99-cca20e33e556",
   "metadata": {},
   "outputs": [
    {
     "name": "stdout",
     "output_type": "stream",
     "text": [
      "['If', 'you', 'want', 'to', 'know', 'what', 'a', 'man’s', 'like', ',', 'take', 'a', 'good', 'looks', 'at', 'how', 'he', 'treats', 'his', 'inferiors', ',', 'not', 'his', 'equals.', 'It', 'is', 'our', 'choices', ',', 'Harry', ',', 'that', 'show', 'what', 'we', 'truly', 'are', ',', 'far', 'more', 'than', 'our', 'abilities', '!']\n"
     ]
    }
   ],
   "source": [
    "#Tree bank word tokenization\n",
    "#treats the punctuations marks as seperate tokens\n",
    "\n",
    "from nltk.tokenize import TreebankWordTokenizer\n",
    "treebank_tokenized = TreebankWordTokenizer().tokenize(sentence)\n",
    "print(treebank_tokenized)"
   ]
  },
  {
   "cell_type": "code",
   "execution_count": 16,
   "id": "cc635fe0-7888-4dc0-be8e-aef5b51cb415",
   "metadata": {},
   "outputs": [
    {
     "name": "stdout",
     "output_type": "stream",
     "text": [
      "['I', 'f', ' ', 'y', 'o', 'u', ' ', 'w', 'a', 'n', 't', ' ', 't', 'o', ' ', 'k', 'n', 'o', 'w', ' ', 'w', 'h', 'a', 't', ' ', 'a', ' ', 'm', 'a', 'n', '’', 's', ' ', 'l', 'i', 'k', 'e', ',', ' ', 't_a_k_e_ _a_ _g_o_o_d', ' ', 'l', 'o', 'o', 'k', 's', ' ', 'a', 't', ' ', 'h', 'o', 'w', ' ', 'h_e', ' ', 't', 'r', 'e', 'a', 't', 's', ' ', 'h', 'i', 's', ' ', 'i', 'n', 'f', 'e', 'r', 'i', 'o', 'r', 's', ',', ' ', 'n', 'o', 't', ' ', 'h', 'i', 's', ' ', 'e', 'q', 'u', 'a', 'l', 's', '.', ' ', 'I', 't', ' ', 'i', 's', ' ', 'o', 'u', 'r', ' ', 'c', 'h', 'o', 'i', 'c', 'e', 's', ',', ' ', 'H_a_r_r_y', ',', ' ', 't', 'h', 'a', 't', ' ', 's', 'h', 'o', 'w', ' ', 'w', 'h', 'a', 't', ' ', 'w', 'e', ' ', 't', 'r', 'u', 'l', 'y', ' ', 'a', 'r', 'e', ',', ' ', 'f', 'a', 'r', ' ', 'm', 'o', 'r', 'e', ' ', 't', 'h', 'a', 'n', ' ', 'o', 'u', 'r', ' ', 'a', 'b', 'i', 'l', 'i', 't', 'i', 'e', 's', '!']\n"
     ]
    }
   ],
   "source": [
    "# MWE Tokenization\n",
    "# recognizes the specified token sas a single token\n",
    "\n",
    "from nltk.tokenize import MWETokenizer\n",
    "mwe_tokenizer = MWETokenizer([('he'),('take a good')])\n",
    "mwe_tokenizer.add_mwe(('Harry'))\n",
    "mwe_tokenized = mwe_tokenizer.tokenize(sentence)\n",
    "print(mwe_tokenized)\n"
   ]
  },
  {
   "cell_type": "code",
   "execution_count": 8,
   "id": "5e8bd687-f5ba-434e-ab88-47d0cc942456",
   "metadata": {},
   "outputs": [
    {
     "name": "stdout",
     "output_type": "stream",
     "text": [
      "['If', 'you', 'want', 'to', 'know', 'what', 'a', 'man', '’', 's', 'like', ',', 'take', 'a', 'good', 'looks', 'at', 'how', 'he', 'treats', 'his', 'inferiors', ',', 'not', 'his', 'equals', '.', 'It', 'is', 'our', 'choices', ',', 'Harry', ',', 'that', 'show', 'what', 'we', 'truly', 'are', ',', 'far', 'more', 'than', 'our', 'abilities', '!']\n"
     ]
    }
   ],
   "source": [
    "# Tweet tokenization\n",
    "#stream of tokens is returned\n",
    "\n",
    "from nltk.tokenize import TweetTokenizer\n",
    "tweet_tokenized = TweetTokenizer().tokenize(sentence)\n",
    "print(tweet_tokenized)"
   ]
  },
  {
   "cell_type": "code",
   "execution_count": 9,
   "id": "6b108521-3eec-4067-a9e3-c913c3474bca",
   "metadata": {},
   "outputs": [
    {
     "name": "stdout",
     "output_type": "stream",
     "text": [
      "['If', 'you', 'want', 'to', 'know', 'what', 'a', 'man', '’', 's', 'like', ',', 'take', 'a', 'good', 'looks', 'at', 'how', 'he', 'treats', 'his', 'inferiors', ',', 'not', 'his', 'equals', '.', 'It', 'is', 'our', 'choices', ',', 'Harry', ',', 'that', 'show', 'what', 'we', 'truly', 'are', ',', 'far', 'more', 'than', 'our', 'abilities', '!']\n"
     ]
    }
   ],
   "source": [
    "# Punctuation Based Word Tokenization\n",
    "\n",
    "from nltk.tokenize import wordpunct_tokenize\n",
    "print(wordpunct_tokenize(sentence))"
   ]
  },
  {
   "cell_type": "code",
   "execution_count": 10,
   "id": "a42c45c8-9664-4fac-adce-bfd68a930388",
   "metadata": {},
   "outputs": [
    {
     "name": "stderr",
     "output_type": "stream",
     "text": [
      "[nltk_data] Downloading package punkt_tab to\n",
      "[nltk_data]     C:\\Users\\gayat\\AppData\\Roaming\\nltk_data...\n",
      "[nltk_data]   Unzipping tokenizers\\punkt_tab.zip.\n"
     ]
    },
    {
     "name": "stdout",
     "output_type": "stream",
     "text": [
      "['If you want to know what a man’s like, take a good looks at how he treats his inferiors, not his equals.', 'It is our choices, Harry, that show what we truly are, far more than our abilities!']\n"
     ]
    }
   ],
   "source": [
    "# Punctuation Based Sentence Tokenization\n",
    "nltk.download('punkt_tab')\n",
    "sent_detector = nltk.data.load('tokenizers/punkt/english.pickle')\n",
    "sent_tokenized = sent_detector.tokenize(sentence)\n",
    "print(sent_tokenized)"
   ]
  },
  {
   "cell_type": "code",
   "execution_count": 11,
   "id": "750fa7b4-05ff-4595-bf50-0c375ef593ce",
   "metadata": {},
   "outputs": [],
   "source": [
    "#Stemming methods"
   ]
  },
  {
   "cell_type": "code",
   "execution_count": 12,
   "id": "210d82c1-09c7-4d99-85bc-446c76b9221f",
   "metadata": {},
   "outputs": [
    {
     "name": "stdout",
     "output_type": "stream",
     "text": [
      "Before Snowball Stemming\n",
      "['If', 'you', 'want', 'to', 'know', 'what', 'a', 'man', '’', 's', 'like', ',', 'take', 'a', 'good', 'looks', 'at', 'how', 'he', 'treats', 'his', 'inferiors', ',', 'not', 'his', 'equals', '.', 'It', 'is', 'our', 'choices', ',', 'Harry', ',', 'that', 'show', 'what', 'we', 'truly', 'are', ',', 'far', 'more', 'than', 'our', 'abilities', '!'] \n",
      "\n",
      "After Snowball Stemming\n",
      "['if', 'you', 'want', 'to', 'know', 'what', 'a', 'man', '’', 's', 'like', ',', 'take', 'a', 'good', 'look', 'at', 'how', 'he', 'treat', 'his', 'inferior', ',', 'not', 'his', 'equal', '.', 'it', 'is', 'our', 'choic', ',', 'harri', ',', 'that', 'show', 'what', 'we', 'truli', 'are', ',', 'far', 'more', 'than', 'our', 'abil', '!']\n"
     ]
    }
   ],
   "source": [
    "#Snow ball stemming\n",
    "#improved version of porter stemming \n",
    "\n",
    "from nltk.stem.snowball import SnowballStemmer\n",
    "snowballstemmer = SnowballStemmer(language='english')\n",
    "stem_words = []\n",
    "for w in tweet_tokenized:\n",
    "    x = snowballstemmer.stem(w)\n",
    "    stem_words.append(x)\n",
    "print('Before Snowball Stemming')\n",
    "print(tweet_tokenized,'\\n')\n",
    "\n",
    "print('After Snowball Stemming')\n",
    "print(stem_words)"
   ]
  },
  {
   "cell_type": "code",
   "execution_count": 13,
   "id": "dc4549da-c548-479a-8d00-321ce6ff7bb7",
   "metadata": {},
   "outputs": [
    {
     "name": "stdout",
     "output_type": "stream",
     "text": [
      "Before Potter Stemming\n",
      "['If', 'you', 'want', 'to', 'know', 'what', 'a', 'man', '’', 's', 'like', ',', 'take', 'a', 'good', 'looks', 'at', 'how', 'he', 'treats', 'his', 'inferiors', ',', 'not', 'his', 'equals', '.', 'It', 'is', 'our', 'choices', ',', 'Harry', ',', 'that', 'show', 'what', 'we', 'truly', 'are', ',', 'far', 'more', 'than', 'our', 'abilities', '!'] \n",
      "\n",
      "After Potter Stemming\n",
      "['if', 'you', 'want', 'to', 'know', 'what', 'a', 'man', '’', 's', 'like', ',', 'take', 'a', 'good', 'look', 'at', 'how', 'he', 'treat', 'hi', 'inferior', ',', 'not', 'hi', 'equal', '.', 'it', 'is', 'our', 'choic', ',', 'harri', ',', 'that', 'show', 'what', 'we', 'truli', 'are', ',', 'far', 'more', 'than', 'our', 'abil', '!']\n"
     ]
    }
   ],
   "source": [
    "# Porter stemming\n",
    "\n",
    "from nltk.stem import PorterStemmer\n",
    "porterstemmer = PorterStemmer()\n",
    "stem_words = []\n",
    "for w in tweet_tokenized:\n",
    "    x = porterstemmer.stem(w)\n",
    "    stem_words.append(x)\n",
    "print('Before Potter Stemming')\n",
    "print(tweet_tokenized,'\\n')\n",
    "\n",
    "print('After Potter Stemming')\n",
    "print(stem_words)"
   ]
  },
  {
   "cell_type": "code",
   "execution_count": 14,
   "id": "93b1e876-e0c5-4312-86c3-c74d25b189b5",
   "metadata": {},
   "outputs": [],
   "source": [
    "# Lemmatization\n"
   ]
  },
  {
   "cell_type": "code",
   "execution_count": 15,
   "id": "8150d48e-47b3-4c2c-bd16-ac429d671209",
   "metadata": {},
   "outputs": [
    {
     "name": "stderr",
     "output_type": "stream",
     "text": [
      "[nltk_data] Downloading package wordnet to\n",
      "[nltk_data]     C:\\Users\\gayat\\AppData\\Roaming\\nltk_data...\n",
      "[nltk_data]   Package wordnet is already up-to-date!\n"
     ]
    },
    {
     "name": "stdout",
     "output_type": "stream",
     "text": [
      "Before Lemmatization\n",
      "['If', 'you', 'want', 'to', 'know', 'what', 'a', 'man', '’', 's', 'like', ',', 'take', 'a', 'good', 'looks', 'at', 'how', 'he', 'treats', 'his', 'inferiors', ',', 'not', 'his', 'equals', '.', 'It', 'is', 'our', 'choices', ',', 'Harry', ',', 'that', 'show', 'what', 'we', 'truly', 'are', ',', 'far', 'more', 'than', 'our', 'abilities', '!'] \n",
      "\n",
      "After Lemmatization\n",
      "['If', 'you', 'want', 'to', 'know', 'what', 'a', 'man', '’', 's', 'like', ',', 'take', 'a', 'good', 'look', 'at', 'how', 'he', 'treat', 'his', 'inferior', ',', 'not', 'his', 'equal', '.', 'It', 'is', 'our', 'choice', ',', 'Harry', ',', 'that', 'show', 'what', 'we', 'truly', 'are', ',', 'far', 'more', 'than', 'our', 'ability', '!']\n"
     ]
    }
   ],
   "source": [
    "nltk.download('wordnet')\n",
    "from nltk.stem import WordNetLemmatizer\n",
    "\n",
    "wordnet_lemmatizer = WordNetLemmatizer()\n",
    "stem_words = []\n",
    "for w in tweet_tokenized:\n",
    "    x = wordnet_lemmatizer.lemmatize(w)\n",
    "    stem_words.append(x)\n",
    "print('Before Lemmatization')\n",
    "print(tweet_tokenized,'\\n')\n",
    "\n",
    "print('After Lemmatization')\n",
    "print(stem_words)"
   ]
  },
  {
   "cell_type": "code",
   "execution_count": null,
   "id": "1ca6283f-c985-43e4-ba1d-441e9bda1f55",
   "metadata": {},
   "outputs": [],
   "source": []
  }
 ],
 "metadata": {
  "kernelspec": {
   "display_name": "Python 3 (ipykernel)",
   "language": "python",
   "name": "python3"
  },
  "language_info": {
   "codemirror_mode": {
    "name": "ipython",
    "version": 3
   },
   "file_extension": ".py",
   "mimetype": "text/x-python",
   "name": "python",
   "nbconvert_exporter": "python",
   "pygments_lexer": "ipython3",
   "version": "3.13.2"
  }
 },
 "nbformat": 4,
 "nbformat_minor": 5
}
